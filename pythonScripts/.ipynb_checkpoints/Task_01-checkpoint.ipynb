{
 "cells": [
  {
   "cell_type": "code",
   "execution_count": 34,
   "metadata": {},
   "outputs": [],
   "source": [
    " # Load the Pandas libraries with alias 'pd' \n",
    "import pandas as pd \n",
    "# Read data from file 'filename.csv' \n",
    "# (in the same directory that your python process is based)\n",
    "# Control delimiters, rows, column names with read_csv (see later) \n",
    "consumerData = pd.read_csv(\"sample_semanai.csv\") "
   ]
  },
  {
   "cell_type": "code",
   "execution_count": 23,
   "metadata": {},
   "outputs": [],
   "source": [
    "data.isnull().sum();\n",
    "\n",
    "# Create Weekdays List for Food Group\n",
    "weekFoodGroup = []\n",
    "# Create Weekdays List for Company Description\n",
    "weekCompanyDescription = []\n",
    "# Create Weekdays List for Age Range\n",
    "weekAgeRange = []"
   ]
  },
  {
   "cell_type": "code",
   "execution_count": 62,
   "metadata": {},
   "outputs": [
    {
     "name": "stdout",
     "output_type": "stream",
     "text": [
      "<class 'pandas.core.frame.DataFrame'>\n",
      "RangeIndex: 46472 entries, 0 to 46471\n",
      "Data columns (total 22 columns):\n",
      "Unnamed: 0          46472 non-null int64\n",
      "dia                 46472 non-null object\n",
      "orden               46472 non-null int64\n",
      "noPersonas          46472 non-null int64\n",
      "terminal            46472 non-null object\n",
      "accion              46472 non-null object\n",
      "cantidad            46467 non-null float64\n",
      "foodGroup           46467 non-null object\n",
      "subGroup            46467 non-null object\n",
      "keyFood             46183 non-null object\n",
      "modificador         20738 non-null object\n",
      "esModificador       46183 non-null object\n",
      "idEncuesta          46472 non-null int64\n",
      "cuenta              46472 non-null int64\n",
      "mesa                46472 non-null int64\n",
      "recomendacion       46472 non-null int64\n",
      "company             42883 non-null object\n",
      "ageRange            42883 non-null object\n",
      "acknowledge         15788 non-null object\n",
      "manager             43285 non-null float64\n",
      "firstTime           43284 non-null float64\n",
      "preferenceReason    42885 non-null object\n",
      "dtypes: float64(3), int64(7), object(12)\n",
      "memory usage: 7.8+ MB\n"
     ]
    }
   ],
   "source": [
    "consumerData.info();"
   ]
  },
  {
   "cell_type": "code",
   "execution_count": 77,
   "metadata": {},
   "outputs": [],
   "source": [
    "# Get days description & create a dictionary\n",
    "weekDays = dict.fromkeys(consumerData.dia.unique())\n",
    "\n",
    "# Assign days diccionary\n",
    "weekAgeRange =  weekDays\n",
    "weekFoodGroup = weekDays\n",
    "weekCompanyDescription = weekDays"
   ]
  },
  {
   "cell_type": "code",
   "execution_count": 78,
   "metadata": {},
   "outputs": [
    {
     "name": "stdout",
     "output_type": "stream",
     "text": [
      "{'lunes': {'Alimentos': 2617, 'Bebidas': 1878, nan: 0}, 'martes': {'Alimentos': 2960, 'Bebidas': 2237, nan: 0}, 'miércoles': {'Alimentos': 3744, 'Bebidas': 2892, nan: 2}, 'jueves': {'Alimentos': 3332, 'Bebidas': 2549, nan: 0}, 'viernes': {'Alimentos': 4336, 'Bebidas': 3381, nan: 0}, 'sábado': {'Alimentos': 4939, 'Bebidas': 3812, nan: 3}, 'domingo': {'Alimentos': 4482, 'Bebidas': 3308, nan: 0}}\n"
     ]
    }
   ],
   "source": []
  },
  {
   "cell_type": "code",
   "execution_count": null,
   "metadata": {},
   "outputs": [],
   "source": []
  }
 ],
 "metadata": {
  "kernelspec": {
   "display_name": "Python 3",
   "language": "python",
   "name": "python3"
  },
  "language_info": {
   "codemirror_mode": {
    "name": "ipython",
    "version": 3
   },
   "file_extension": ".py",
   "mimetype": "text/x-python",
   "name": "python",
   "nbconvert_exporter": "python",
   "pygments_lexer": "ipython3",
   "version": "3.7.0"
  }
 },
 "nbformat": 4,
 "nbformat_minor": 2
}
