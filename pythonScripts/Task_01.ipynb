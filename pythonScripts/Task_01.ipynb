{
 "cells": [
  {
   "cell_type": "code",
   "execution_count": 128,
   "metadata": {},
   "outputs": [],
   "source": [
    "# Load the Pandas libraries with alias 'pd' \n",
    "# Load the Plotly librarie with alias 'px'\n",
    "import pandas as pd \n",
    "import plotly.express as px\n",
    "# Read data from file 'sample_semanai.csv' \n",
    "consumerData = pd.read_csv(\"sample_semanai.csv\") "
   ]
  },
  {
   "cell_type": "code",
   "execution_count": 129,
   "metadata": {},
   "outputs": [],
   "source": [
    "# Create Weekdays List for Food Group\n",
    "weekFoodGroup = []\n",
    "# Create Weekdays List for Sub Food Group\n",
    "weekSubFoodGroup = []\n",
    "# Create Weekdays List for Company Description\n",
    "weekCompanyDescription = []\n",
    "# Create Weekdays List for Age Range\n",
    "weekAgeRange = []"
   ]
  },
  {
   "cell_type": "code",
   "execution_count": 130,
   "metadata": {},
   "outputs": [
    {
     "name": "stdout",
     "output_type": "stream",
     "text": [
      "<class 'pandas.core.frame.DataFrame'>\n",
      "RangeIndex: 46472 entries, 0 to 46471\n",
      "Data columns (total 22 columns):\n",
      "Unnamed: 0          46472 non-null int64\n",
      "dia                 46472 non-null object\n",
      "orden               46472 non-null int64\n",
      "noPersonas          46472 non-null int64\n",
      "terminal            46472 non-null object\n",
      "accion              46472 non-null object\n",
      "cantidad            46467 non-null float64\n",
      "foodGroup           46467 non-null object\n",
      "subGroup            46467 non-null object\n",
      "keyFood             46183 non-null object\n",
      "modificador         20738 non-null object\n",
      "esModificador       46183 non-null object\n",
      "idEncuesta          46472 non-null int64\n",
      "cuenta              46472 non-null int64\n",
      "mesa                46472 non-null int64\n",
      "recomendacion       46472 non-null int64\n",
      "company             42883 non-null object\n",
      "ageRange            42883 non-null object\n",
      "acknowledge         15788 non-null object\n",
      "manager             43285 non-null float64\n",
      "firstTime           43284 non-null float64\n",
      "preferenceReason    42885 non-null object\n",
      "dtypes: float64(3), int64(7), object(12)\n",
      "memory usage: 7.8+ MB\n"
     ]
    }
   ],
   "source": [
    "consumerData.info()"
   ]
  },
  {
   "cell_type": "code",
   "execution_count": 141,
   "metadata": {},
   "outputs": [],
   "source": [
    "# Assign days diccionary\n",
    "weekAgeRange =  dict.fromkeys(consumerData.dia.unique())\n",
    "weekFoodGroup = dict.fromkeys(consumerData.dia.unique())\n",
    "weekSubFoodGroup = dict.fromkeys(consumerData.dia.unique())\n",
    "weekCompanyDescription = dict.fromkeys(consumerData.dia.unique())"
   ]
  },
  {
   "cell_type": "code",
   "execution_count": 142,
   "metadata": {},
   "outputs": [
    {
     "name": "stdout",
     "output_type": "stream",
     "text": [
      "{'lunes': {'Alimentos': 2617, 'Bebidas': 1878, nan: 0}, 'martes': {'Alimentos': 2960, 'Bebidas': 2237, nan: 0}, 'miércoles': {'Alimentos': 3744, 'Bebidas': 2892, nan: 2}, 'jueves': {'Alimentos': 3332, 'Bebidas': 2549, nan: 0}, 'viernes': {'Alimentos': 4336, 'Bebidas': 3381, nan: 0}, 'sábado': {'Alimentos': 4939, 'Bebidas': 3812, nan: 3}, 'domingo': {'Alimentos': 4482, 'Bebidas': 3308, nan: 0}}\n"
     ]
    }
   ],
   "source": [
    "# Get different types of Foods Groups\n",
    "for i in weekFoodGroup:\n",
    "    weekFoodGroup[i] = dict.fromkeys(consumerData.foodGroup.unique(),0)\n",
    "\n",
    "# Total sum of buy per day\n",
    "for index, row in consumerData.iterrows():\n",
    "    dia = row[\"dia\"]\n",
    "    foodGroup = row[\"foodGroup\"]\n",
    "    weekFoodGroup[dia][foodGroup] =  weekFoodGroup[dia][foodGroup]+1\n",
    "    \n",
    "print(weekFoodGroup)"
   ]
  },
  {
   "cell_type": "code",
   "execution_count": 147,
   "metadata": {},
   "outputs": [
    {
     "name": "stdout",
     "output_type": "stream",
     "text": [
      "{'Alimentos': 2617, 'Bebidas': 1878, nan: 0}\n"
     ]
    }
   ],
   "source": [
    "print(weekFoodGroup['lunes'])"
   ]
  },
  {
   "cell_type": "code",
   "execution_count": 146,
   "metadata": {},
   "outputs": [
    {
     "name": "stdout",
     "output_type": "stream",
     "text": [
      "{'lunes': {'ENTRADAS': 105, 'CLÁSICOS': 608, 'BEBIDAS SIN ALCOHOL': 423, 'POSTRES': 102, 'HAMBURGUESAS': 1442, 'BEBIDAS CON ALCOHOL': 695, 'BÁSICOS': 716, 'SANDWICHES': 82, 'PAPAS, PAPAS Y MÁS PAPAS': 60, 'EXTRAS COCINA': 89, 'PASTAS': 35, 'BEBIDAS': 32, 'ENSALADAS': 81, 'BEBIDAS SÚPER': 11, 'DESTILADOS': 13, 'EXTRAS BARRA': 1, nan: 0}, 'martes': {'ENTRADAS': 101, 'CLÁSICOS': 756, 'BEBIDAS SIN ALCOHOL': 587, 'POSTRES': 119, 'HAMBURGUESAS': 1608, 'BEBIDAS CON ALCOHOL': 782, 'BÁSICOS': 835, 'SANDWICHES': 87, 'PAPAS, PAPAS Y MÁS PAPAS': 56, 'EXTRAS COCINA': 85, 'PASTAS': 44, 'BEBIDAS': 24, 'ENSALADAS': 78, 'BEBIDAS SÚPER': 6, 'DESTILADOS': 26, 'EXTRAS BARRA': 3, nan: 0}, 'miércoles': {'ENTRADAS': 141, 'CLÁSICOS': 992, 'BEBIDAS SIN ALCOHOL': 757, 'POSTRES': 136, 'HAMBURGUESAS': 1999, 'BEBIDAS CON ALCOHOL': 1106, 'BÁSICOS': 966, 'SANDWICHES': 109, 'PAPAS, PAPAS Y MÁS PAPAS': 83, 'EXTRAS COCINA': 97, 'PASTAS': 67, 'BEBIDAS': 47, 'ENSALADAS': 98, 'BEBIDAS SÚPER': 13, 'DESTILADOS': 22, 'EXTRAS BARRA': 3, nan: 2}, 'jueves': {'ENTRADAS': 127, 'CLÁSICOS': 837, 'BEBIDAS SIN ALCOHOL': 626, 'POSTRES': 93, 'HAMBURGUESAS': 1830, 'BEBIDAS CON ALCOHOL': 1040, 'BÁSICOS': 830, 'SANDWICHES': 88, 'PAPAS, PAPAS Y MÁS PAPAS': 75, 'EXTRAS COCINA': 105, 'PASTAS': 49, 'BEBIDAS': 35, 'ENSALADAS': 87, 'BEBIDAS SÚPER': 15, 'DESTILADOS': 41, 'EXTRAS BARRA': 3, nan: 0}, 'viernes': {'ENTRADAS': 210, 'CLÁSICOS': 1044, 'BEBIDAS SIN ALCOHOL': 865, 'POSTRES': 114, 'HAMBURGUESAS': 2473, 'BEBIDAS CON ALCOHOL': 1341, 'BÁSICOS': 1107, 'SANDWICHES': 108, 'PAPAS, PAPAS Y MÁS PAPAS': 96, 'EXTRAS COCINA': 104, 'PASTAS': 56, 'BEBIDAS': 48, 'ENSALADAS': 104, 'BEBIDAS SÚPER': 11, 'DESTILADOS': 27, 'EXTRAS BARRA': 9, nan: 0}, 'sábado': {'ENTRADAS': 196, 'CLÁSICOS': 1251, 'BEBIDAS SIN ALCOHOL': 996, 'POSTRES': 83, 'HAMBURGUESAS': 2940, 'BEBIDAS CON ALCOHOL': 1470, 'BÁSICOS': 1260, 'SANDWICHES': 108, 'PAPAS, PAPAS Y MÁS PAPAS': 106, 'EXTRAS COCINA': 118, 'PASTAS': 49, 'BEBIDAS': 66, 'ENSALADAS': 72, 'BEBIDAS SÚPER': 18, 'DESTILADOS': 16, 'EXTRAS BARRA': 2, nan: 3}, 'domingo': {'ENTRADAS': 194, 'CLÁSICOS': 1097, 'BEBIDAS SIN ALCOHOL': 839, 'POSTRES': 91, 'HAMBURGUESAS': 2595, 'BEBIDAS CON ALCOHOL': 1217, 'BÁSICOS': 1190, 'SANDWICHES': 124, 'PAPAS, PAPAS Y MÁS PAPAS': 93, 'EXTRAS COCINA': 103, 'PASTAS': 60, 'BEBIDAS': 45, 'ENSALADAS': 94, 'BEBIDAS SÚPER': 11, 'DESTILADOS': 31, 'EXTRAS BARRA': 6, nan: 0}}\n"
     ]
    }
   ],
   "source": [
    "# Get different types of Foods subGroups\n",
    "for i in weekSubFoodGroup:\n",
    "    weekSubFoodGroup[i] = dict.fromkeys(consumerData.subGroup.unique(),0)\n",
    "\n",
    "# Total sum of buy per day\n",
    "for index, row in consumerData.iterrows():\n",
    "    dia = row[\"dia\"]\n",
    "    subGroup = row[\"subGroup\"]\n",
    "    weekSubFoodGroup[dia][subGroup] =  weekSubFoodGroup[dia][subGroup]+1\n",
    "\n",
    "print(weekSubFoodGroup)"
   ]
  },
  {
   "cell_type": "code",
   "execution_count": 145,
   "metadata": {},
   "outputs": [
    {
     "name": "stdout",
     "output_type": "stream",
     "text": [
      "{'ENTRADAS': 105, 'CLÁSICOS': 608, 'BEBIDAS SIN ALCOHOL': 423, 'POSTRES': 102, 'HAMBURGUESAS': 1442, 'BEBIDAS CON ALCOHOL': 695, 'BÁSICOS': 716, 'SANDWICHES': 82, 'PAPAS, PAPAS Y MÁS PAPAS': 60, 'EXTRAS COCINA': 89, 'PASTAS': 35, 'BEBIDAS': 32, 'ENSALADAS': 81, 'BEBIDAS SÚPER': 11, 'DESTILADOS': 13, 'EXTRAS BARRA': 1, nan: 0}\n"
     ]
    }
   ],
   "source": [
    "print(weekSubFoodGroup['lunes'])"
   ]
  },
  {
   "cell_type": "code",
   "execution_count": 148,
   "metadata": {},
   "outputs": [
    {
     "name": "stdout",
     "output_type": "stream",
     "text": [
      "{'lunes': {'Pareja': 1141, 'Amigos': 1346, 'Familia': 1287, 'Solo': 43, 'Los del Trabajo': 302, nan: 376}, 'martes': {'Pareja': 1237, 'Amigos': 1729, 'Familia': 1257, 'Solo': 82, 'Los del Trabajo': 305, nan: 587}, 'miércoles': {'Pareja': 1547, 'Amigos': 2167, 'Familia': 1919, 'Solo': 49, 'Los del Trabajo': 568, nan: 388}, 'jueves': {'Pareja': 1529, 'Amigos': 1987, 'Familia': 1494, 'Solo': 73, 'Los del Trabajo': 351, nan: 447}, 'viernes': {'Pareja': 1807, 'Amigos': 2785, 'Familia': 1897, 'Solo': 75, 'Los del Trabajo': 645, nan: 508}, 'sábado': {'Pareja': 2865, 'Amigos': 2435, 'Familia': 2629, 'Solo': 89, 'Los del Trabajo': 69, nan: 667}, 'domingo': {'Pareja': 2235, 'Amigos': 1573, 'Familia': 3254, 'Solo': 69, 'Los del Trabajo': 43, nan: 616}}\n"
     ]
    }
   ],
   "source": [
    "# Get different types of Company Description\n",
    "for i in weekCompanyDescription:\n",
    "    weekCompanyDescription[i] = dict.fromkeys(consumerData.company.unique(),0)\n",
    "\n",
    "# Total sum of buy per day\n",
    "for index, row in consumerData.iterrows():\n",
    "    dia = row[\"dia\"]\n",
    "    company = row[\"company\"]\n",
    "    weekCompanyDescription[dia][company] =  weekCompanyDescription[dia][company]+1\n",
    "    \n",
    "print(weekCompanyDescription)"
   ]
  },
  {
   "cell_type": "code",
   "execution_count": 149,
   "metadata": {},
   "outputs": [
    {
     "name": "stdout",
     "output_type": "stream",
     "text": [
      "{'Pareja': 1141, 'Amigos': 1346, 'Familia': 1287, 'Solo': 43, 'Los del Trabajo': 302, nan: 376}\n"
     ]
    }
   ],
   "source": [
    "print(weekCompanyDescription['lunes'])"
   ]
  },
  {
   "cell_type": "code",
   "execution_count": 136,
   "metadata": {},
   "outputs": [
    {
     "name": "stdout",
     "output_type": "stream",
     "text": [
      "{'lunes': {'22 a 25': 1270, '18 a 21': 753, '26 a 32': 1205, '33 a 44': 500, 'Menor a 17': 133, '45 ó más': 258, nan: 376}, 'martes': {'22 a 25': 1445, '18 a 21': 857, '26 a 32': 1368, '33 a 44': 570, 'Menor a 17': 147, '45 ó más': 223, nan: 587}, 'miércoles': {'22 a 25': 1965, '18 a 21': 1056, '26 a 32': 1892, '33 a 44': 788, 'Menor a 17': 215, '45 ó más': 334, nan: 388}, 'jueves': {'22 a 25': 1691, '18 a 21': 959, '26 a 32': 1559, '33 a 44': 744, 'Menor a 17': 215, '45 ó más': 266, nan: 447}, 'viernes': {'22 a 25': 2258, '18 a 21': 1372, '26 a 32': 2203, '33 a 44': 820, 'Menor a 17': 305, '45 ó más': 251, nan: 508}, 'sábado': {'22 a 25': 2774, '18 a 21': 1566, '26 a 32': 2192, '33 a 44': 851, 'Menor a 17': 380, '45 ó más': 324, nan: 667}, 'domingo': {'22 a 25': 2104, '18 a 21': 1218, '26 a 32': 2131, '33 a 44': 957, 'Menor a 17': 385, '45 ó más': 379, nan: 616}}\n"
     ]
    }
   ],
   "source": [
    "# Get different types of Age Range Description\n",
    "for i in weekAgeRange:\n",
    "    weekAgeRange[i] = dict.fromkeys(consumerData.ageRange.unique(),0)\n",
    "\n",
    "# Total sum of buy per day\n",
    "for index, row in consumerData.iterrows():\n",
    "    dia = row[\"dia\"]\n",
    "    ageRange = row[\"ageRange\"]\n",
    "    weekAgeRange[dia][ageRange] =  weekAgeRange[dia][ageRange]+1\n",
    "    \n",
    "print(weekAgeRange)"
   ]
  }
 ],
 "metadata": {
  "kernelspec": {
   "display_name": "Python 3",
   "language": "python",
   "name": "python3"
  },
  "language_info": {
   "codemirror_mode": {
    "name": "ipython",
    "version": 3
   },
   "file_extension": ".py",
   "mimetype": "text/x-python",
   "name": "python",
   "nbconvert_exporter": "python",
   "pygments_lexer": "ipython3",
   "version": "3.7.0"
  }
 },
 "nbformat": 4,
 "nbformat_minor": 2
}
